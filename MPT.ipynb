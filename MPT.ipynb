{
 "cells": [
  {
   "cell_type": "code",
   "execution_count": null,
   "metadata": {},
   "outputs": [],
   "source": [
    "import numpy as np\n",
    "import pandas as pd\n",
    "from pandas_datareader import data as da\n",
    "import matplotlib as mtplt\n",
    "import matplotlib.pyplot as plt\n",
    "from scipy.stats import norm\n",
    "import yfinance as yf\n",
    "import datetime\n",
    "import scipy.optimize as optimization\n",
    "import json\n",
    "    "
   ]
  },
  {
   "cell_type": "code",
   "execution_count": null,
   "metadata": {},
   "outputs": [
    {
     "name": "stdout",
     "output_type": "stream",
     "text": [
      "Defaulting to user installation because normal site-packages is not writeable\n",
      "Collecting scipy\n",
      "  Downloading scipy-1.11.4-cp39-cp39-macosx_10_9_x86_64.whl (37.3 MB)\n",
      "\u001b[2K     \u001b[90m━━━━━━━━━━━━━━━━━━━━━━━━━━━━━━━━━━━━━━━━\u001b[0m \u001b[32m37.3/37.3 MB\u001b[0m \u001b[31m1.0 MB/s\u001b[0m eta \u001b[36m0:00:00\u001b[0m00:01\u001b[0m00:01\u001b[0mm\n",
      "\u001b[?25hRequirement already satisfied: numpy<1.28.0,>=1.21.6 in /Library/Frameworks/Python.framework/Versions/3.9/lib/python3.9/site-packages (from scipy) (1.23.3)\n",
      "Installing collected packages: scipy\n",
      "Successfully installed scipy-1.11.4\n",
      "\n",
      "\u001b[1m[\u001b[0m\u001b[34;49mnotice\u001b[0m\u001b[1;39;49m]\u001b[0m\u001b[39;49m A new release of pip available: \u001b[0m\u001b[31;49m22.2.2\u001b[0m\u001b[39;49m -> \u001b[0m\u001b[32;49m23.3.1\u001b[0m\n",
      "\u001b[1m[\u001b[0m\u001b[34;49mnotice\u001b[0m\u001b[1;39;49m]\u001b[0m\u001b[39;49m To update, run: \u001b[0m\u001b[32;49mpip install --upgrade pip\u001b[0m\n"
     ]
    }
   ],
   "source": [
    "pip install scipy"
   ]
  },
  {
   "cell_type": "code",
   "execution_count": null,
   "metadata": {},
   "outputs": [],
   "source": [
    "stocks=['INFY.NS','RELIANCE.NS','ITC.NS','BAJFINANCE.NS','SBIN.NS','TATASTEEL.NS','TATAMOTORS.NS','IOC.NS','CIPLA.NS','ULTRACEMCO.NS']\n",
    "#stocks from different sector\n",
    "start_date='2022-07-12'\n",
    "end_date='2023-09-10'\n",
    "\n",
    "\n",
    "def Download_Data(stocks):\n",
    "    data = pd.DataFrame()\n",
    "    for stock in stocks:\n",
    "        data[stock] = yf.download(stock , start=start_date,end=end_date)['Adj Close']\n",
    "    return data\n"
   ]
  },
  {
   "cell_type": "code",
   "execution_count": null,
   "metadata": {},
   "outputs": [],
   "source": [
    "Num_Port=10000\n",
    "def show_data(data):\n",
    "    data.plot(figsize=(10,5))\n",
    "    plt.show()\n",
    "\n",
    "def Returns(data):\n",
    "    #daily log returns\n",
    "    log_returns=np.log(data/data.shift(1))\n",
    "    log_returns=log_returns[1:]\n",
    "    return log_returns\n",
    "\n",
    "def Statistics(returns):\n",
    "    #*252 for annual metrics/mean of annual return\n",
    "    mean_return=returns.mean()*252\n",
    "    covariance=returns.cov()*252\n",
    "    print('Mean Returns:')\n",
    "    print(mean_return)\n",
    "    print('Covariance_Matrix:')\n",
    "    print(covariance)\n",
    "    return mean_return,covariance\n",
    "\n",
    "def Mean_Variance(mean_return,Covariance,weights):\n",
    "    #portfolio mean variance\n",
    "    portfolio_return=np.sum(mean_return*weights)*252\n",
    "    portfolio_volatility=np.sqrt(np.dot(weights.T,np.dot(returns.cov()*252,weights)))\n",
    "    print('Expected Portfolio Return=',portfolio_return)\n",
    "    print('Expected Portfolio Volatility=',portfolio_volatility)\n",
    "    return \n",
    "\n",
    "\n",
    "def Show_Portfolios(returns,risks):\n",
    "    plt.figure(figsize=(10,6))\n",
    "    plt.scatter(risks,returns,c=returns/risks,marker='o')\n",
    "    plt.grid(True)\n",
    "    plt.xlabel(\"Expected Risk\")\n",
    "    plt.ylabel(\"Expected Return\")\n",
    "    plt.colorbar(label=\"Sharpe Ratio\")\n",
    "    plt.show()\n",
    "    \n",
    "    \n",
    "def Genrate_Portfolios(returns):\n",
    "    portfolio_mean=[]\n",
    "    portfolio_risk=[]\n",
    "    portfolio_weights=[]\n",
    "    \n",
    "    for i in range(Num_Port):\n",
    "        #genrating random weights Num_port times and then normalizing by dividing the whole w_array by sum(w) so that the sum of weights is 1.\n",
    "        w=np.random.random(len(stocks))\n",
    "        w=w/np.sum(w)\n",
    "        portfolio_weights.append(w)\n",
    "        portfolio_mean.append(np.sum(returns.mean()*w)*252)\n",
    "        portfolio_risk.append(np.sqrt(np.dot(w.T,np.dot(returns.cov()*252,w))))\n",
    "    return np.array(portfolio_weights),np.array(portfolio_mean),np.array(portfolio_risk)\n",
    "    \n",
    "\n",
    "def Stats(Weights,Returns):\n",
    "    portfolio_return=np.sum(mean_return*weights)*252\n",
    "    portfolio_volatility=np.sqrt(np.dot(w.T,np.dot(returns.cov()*252,w)))\n",
    "\n",
    "data=Download_Data(stocks)\n",
    "show_data(data)\n",
    "log_daily_returns=Returns(data)\n",
    "Mean_return,Covariance=Statistics(log_daily_returns)\n",
    "Weights,p_means,p_risks=Genrate_Portfolios(log_daily_returns)\n",
    "\n",
    "Show_Portfolios(p_means,p_risks)\n",
    "Sharpe_Ratio=[]\n",
    "for i in range(len(p_means)):\n",
    "    #taking risk free rate as 0 for calculating Sharpe\n",
    "    Sharpe_Ratio.append(p_means[i]/p_risks[i])\n",
    "max_SR=max(Sharpe_Ratio)\n",
    "index=Sharpe_Ratio.index(max_SR)\n",
    "#OPW=Optimum Portfolio Weights\n",
    "OPW=Weights[index]\n",
    "print(OPW)"
   ]
  },
  {
   "cell_type": "code",
   "execution_count": null,
   "metadata": {},
   "outputs": [],
   "source": [
    "OPW=OPW*100\n",
    "k=[0.1 for i in range(len(OPW))]\n",
    "plt.axis(\"equal\")\n",
    "plt.pie(OPW,labels=stocks,radius=1.5,autopct='%0.2f%%',explode=k,startangle=100)\n",
    "plt.show()"
   ]
  },
  {
   "cell_type": "code",
   "execution_count": null,
   "metadata": {},
   "outputs": [],
   "source": []
  }
 ],
 "metadata": {
  "kernelspec": {
   "display_name": "Python 3 (ipykernel)",
   "language": "python",
   "name": "python3"
  },
  "language_info": {
   "codemirror_mode": {
    "name": "ipython",
    "version": 3
   },
   "file_extension": ".py",
   "mimetype": "text/x-python",
   "name": "python",
   "nbconvert_exporter": "python",
   "pygments_lexer": "ipython3",
   "version": "3.9.7"
  }
 },
 "nbformat": 4,
 "nbformat_minor": 4
}
